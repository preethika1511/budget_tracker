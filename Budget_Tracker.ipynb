{
 "cells": [
  {
   "cell_type": "code",
   "execution_count": 1,
   "id": "d1e594b7-e31d-4e54-a1a7-fe80cc1de1bd",
   "metadata": {},
   "outputs": [
    {
     "name": "stdout",
     "output_type": "stream",
     "text": [
      "WELCOME TO THE BUDGET APP\n"
     ]
    },
    {
     "name": "stdin",
     "output_type": "stream",
     "text": [
      "\n",
      "\n",
      "Enter your initial budget: 1000\n",
      "\n",
      "What would you like to do?\n",
      "1. Add an expense\n",
      "2. Show budget details\n",
      "3. Exit\n",
      "Enter your choice (1/2/3):  1\n",
      "\n",
      "Enter your expense description: food\n",
      "Enter expense amount: 200\n"
     ]
    },
    {
     "name": "stdout",
     "output_type": "stream",
     "text": [
      "Added expense:food   Amount:200\n"
     ]
    },
    {
     "name": "stdin",
     "output_type": "stream",
     "text": [
      "\n",
      "What would you like to do?\n",
      "1. Add an expense\n",
      "2. Show budget details\n",
      "3. Exit\n",
      "Enter your choice (1/2/3):  movie\n"
     ]
    },
    {
     "name": "stdout",
     "output_type": "stream",
     "text": [
      "Invalid input. Please enter a number.\n"
     ]
    },
    {
     "name": "stdin",
     "output_type": "stream",
     "text": [
      "\n",
      "What would you like to do?\n",
      "1. Add an expense\n",
      "2. Show budget details\n",
      "3. Exit\n",
      "Enter your choice (1/2/3):  1\n",
      "\n",
      "Enter your expense description: movie\n",
      "Enter expense amount: 150\n"
     ]
    },
    {
     "name": "stdout",
     "output_type": "stream",
     "text": [
      "Added expense:movie   Amount:150\n"
     ]
    },
    {
     "name": "stdin",
     "output_type": "stream",
     "text": [
      "\n",
      "What would you like to do?\n",
      "1. Add an expense\n",
      "2. Show budget details\n",
      "3. Exit\n",
      "Enter your choice (1/2/3):  2\n"
     ]
    },
    {
     "name": "stdout",
     "output_type": "stream",
     "text": [
      "Total Budget:1000\n",
      "Expenses so far:\n",
      "  food: 200\n",
      "  movie: 150\n",
      "Total expense amount: 350\n",
      "Remaining budget: 650\n"
     ]
    },
    {
     "name": "stdin",
     "output_type": "stream",
     "text": [
      "\n",
      "What would you like to do?\n",
      "1. Add an expense\n",
      "2. Show budget details\n",
      "3. Exit\n",
      "Enter your choice (1/2/3):  3\n"
     ]
    },
    {
     "name": "stdout",
     "output_type": "stream",
     "text": [
      "\n",
      "Your savings is: 650\n",
      "Thank you for using the Budget App!\n"
     ]
    }
   ],
   "source": [
    "#Budget Tracker\n",
    "print(\"WELCOME TO THE BUDGET APP\")\n",
    "\n",
    "#Returns initial budget \n",
    "def get_initial_budget():\n",
    "    while True:\n",
    "        try:\n",
    "            initial_budget=int(input(\"\\n\\nEnter your initial budget:\"))\n",
    "            return initial_budget\n",
    "        except ValueError:\n",
    "            print(\"Invalid input.Please enter a number.\")\n",
    "            \n",
    "#Sum all the expenses and returns the total expense (Option 1)\n",
    "def add_expense(expense_list,total_expenses):\n",
    "    expense_name=input(\"\\nEnter your expense description:\")\n",
    "    while True:\n",
    "        try:\n",
    "            expense_amount=int(input(\"Enter expense amount:\"))\n",
    "            expense_list.append((expense_name,expense_amount))\n",
    "            total_expenses+=expense_amount\n",
    "            print(f\"Added expense:{expense_name}   Amount:{expense_amount}\")\n",
    "            return total_expenses\n",
    "            \n",
    "        except ValueError:\n",
    "            print(\"Invalid amount.Please enter a valid number\")\n",
    "            \n",
    "#Details of all expenditures  (Option 2)\n",
    "def budget_details(initial_budget, expense_list,total_expenses): \n",
    "    print(f\"Total Budget:{initial_budget}\")\n",
    "    if expense_list:\n",
    "        print(\"Expenses so far:\")\n",
    "        for expense, amount in expense_list:\n",
    "            print(f\"  {expense}: {amount}\")\n",
    "    else:\n",
    "        print(\"No expenses added yet.\")\n",
    "    print(f\"Total expense amount: {total_expenses}\")\n",
    "    print(f\"Remaining budget: {initial_budget - total_expenses}\")\n",
    "    \n",
    "def main():\n",
    "    initial_budget = get_initial_budget()\n",
    "    expense_list = []\n",
    "    total_expenses = 0\n",
    "    while True:\n",
    "        try:\n",
    "            choice = int(input(\"\\nWhat would you like to do?\\n1. Add an expense\\n2. Show budget details\\n3. Exit\\nEnter your choice (1/2/3): \"))\n",
    "            if choice == 1:\n",
    "                total_expenses = add_expense(expense_list, total_expenses)\n",
    "            elif choice == 2:\n",
    "                budget_details(initial_budget, expense_list, total_expenses)\n",
    "            elif choice == 3: #(Option 3)\n",
    "                print(f\"\\nYour savings is: {initial_budget - total_expenses}\")\n",
    "                print(\"Thank you for using the Budget App!\")\n",
    "                break\n",
    "            else:\n",
    "                 print(\"Invalid option. Please choose 1, 2, or 3.\")\n",
    "        except:\n",
    "                print(\"Invalid input. Please enter a number.\")\n",
    "\n",
    "if __name__== \"__main__\": #used to control the execution of code when the file is run directly, rather than being imported as a module in another script.\n",
    "    main()                # By default __name__== \"__main__\" ,when the file runs directly without being imported.\n",
    "\n",
    "        "
   ]
  },
  {
   "cell_type": "code",
   "execution_count": null,
   "id": "40f990c7-9f4b-45b5-bf51-ec96cd22a42c",
   "metadata": {},
   "outputs": [],
   "source": []
  }
 ],
 "metadata": {
  "kernelspec": {
   "display_name": "Python 3 (ipykernel)",
   "language": "python",
   "name": "python3"
  },
  "language_info": {
   "codemirror_mode": {
    "name": "ipython",
    "version": 3
   },
   "file_extension": ".py",
   "mimetype": "text/x-python",
   "name": "python",
   "nbconvert_exporter": "python",
   "pygments_lexer": "ipython3",
   "version": "3.12.7"
  }
 },
 "nbformat": 4,
 "nbformat_minor": 5
}
